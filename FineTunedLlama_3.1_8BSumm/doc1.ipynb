{
 "cells": [
  {
   "cell_type": "code",
   "execution_count": 30,
   "metadata": {},
   "outputs": [
    {
     "name": "stderr",
     "output_type": "stream",
     "text": [
      "Loading checkpoint shards: 100%|██████████| 4/4 [00:02<00:00,  1.58it/s]\n"
     ]
    },
    {
     "name": "stdout",
     "output_type": "stream",
     "text": [
      "Comienza generación de resumen...\n",
      "tensor([[128000,    198,  75475,  ...,    220,    966,      4]])\n",
      "1\n"
     ]
    }
   ],
   "source": [
    "from transformers import AutoTokenizer, AutoModelForCausalLM\n",
    "from textos import jud_text, jud_text133kb, test\n",
    "from prompt import prompt1\n",
    "import time\n",
    "\n",
    "# Cargar el modelo y el tokenizador\n",
    "model_name = \"raaec/Meta-Llama-3.1-8B-Instruct-Summarizer\"\n",
    "tokenizer = AutoTokenizer.from_pretrained(model_name)\n",
    "model = AutoModelForCausalLM.from_pretrained(model_name)\n",
    "\n",
    "\n",
    "inputs = tokenizer(f'Dame los siguientes datos de la causa, uno debajo del otro (Sede, Dependencia, Autos, Expediente n.°, ResoluciónAuto n.°, Fecha, Juez):{jud_text}', return_tensors=\"pt\")\n",
    "\n",
    "\n",
    "print(\"Comienza generación de resumen...\")\n",
    "# Generar el resumen usando `generate`\n",
    "summary_ids = model.generate(inputs['input_ids'], \n",
    "                             attention_mask=inputs['attention_mask'],\n",
    "                             pad_token_id=tokenizer.eos_token_id,  # Definir explícitamente el pad_token_id\n",
    "                             max_new_tokens=150, \n",
    "                             min_new_tokens=20, \n",
    "                             length_penalty=2.0, \n",
    "                             num_beams=2, \n",
    "                             early_stopping=True)\n",
    "\n",
    "print(summary_ids)\n",
    "print(len(summary_ids))\n",
    "\n",
    "# Decodificar el resumen generado\n",
    "summary = tokenizer.decode(summary_ids[0], skip_special_tokens=True)\n",
    "\n",
    "\n",
    "\n"
   ]
  },
  {
   "cell_type": "code",
   "execution_count": 31,
   "metadata": {},
   "outputs": [
    {
     "name": "stdout",
     "output_type": "stream",
     "text": [
      "**Sede:** \n",
      "**Dependencia:** \n",
      "**Autos:** \n",
      "**Expediente n.°:** 7103025\n",
      "**Resolución:** Auto n.° 98\n",
      "**Fecha:** 27/05/2022\n",
      "**Juez:** MARCOS JUAREZ\n",
      "\n",
      "**Síntesis de la causa:**\n",
      "\n",
      "La parte actora solicita la conversión de la suma de pesos depositada como resultado de la subasta producida en autos, al tipo de cambio que resulte más justo y que no beneficie al deudor. Se propone tomar el dólar MEP o la suma convertida en pesos al cambio del día del efectivo pago, con más el 30%\n"
     ]
    }
   ],
   "source": [
    "print(tokenizer.decode(summary_ids[0][len(inputs[0]):]))\n"
   ]
  }
 ],
 "metadata": {
  "kernelspec": {
   "display_name": "Python 3",
   "language": "python",
   "name": "python3"
  },
  "language_info": {
   "codemirror_mode": {
    "name": "ipython",
    "version": 3
   },
   "file_extension": ".py",
   "mimetype": "text/x-python",
   "name": "python",
   "nbconvert_exporter": "python",
   "pygments_lexer": "ipython3",
   "version": "3.10.15"
  }
 },
 "nbformat": 4,
 "nbformat_minor": 2
}
