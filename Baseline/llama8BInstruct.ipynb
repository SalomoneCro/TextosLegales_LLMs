{
 "cells": [
  {
   "cell_type": "code",
   "execution_count": 14,
   "metadata": {},
   "outputs": [],
   "source": [
    "from transformers import AutoTokenizer, AutoModelForCausalLM\n",
    "from textos import textoA98\n",
    "from textosXXL import textoA2\n",
    "\n",
    "# Cargar el modelo y el tokenizador\n",
    "model_name = \"meta-llama/Llama-3.2-1B-Instruct\" #Se puede usar tanto el modelo de 1B o 3B de parametros. El \n",
    "                                                # output es muy similar\n",
    "tokenizer = AutoTokenizer.from_pretrained(model_name)\n",
    "model = AutoModelForCausalLM.from_pretrained(model_name)\n",
    "\n",
    "inputs_resumen = tokenizer(f'Genera un resumen del siguiente texto:{textoA98}', return_tensors=\"pt\")\n",
    "# Extraccion de los metadatos\n",
    "metadata_ids = model.generate(inputs_resumen['input_ids'], \n",
    "                             attention_mask=inputs_resumen['attention_mask'],\n",
    "                             pad_token_id=tokenizer.eos_token_id, \n",
    "                             max_new_tokens=150, \n",
    "                             min_new_tokens=60, \n",
    "                             length_penalty=2.0,\n",
    "                             num_beams=2)"
   ]
  },
  {
   "cell_type": "code",
   "execution_count": 15,
   "metadata": {},
   "outputs": [
    {
     "name": "stdout",
     "output_type": "stream",
     "text": [
      "382\n",
      "Nota: Este texto es una simulación de un resumen de un caso judicial, y no refleja la autenticidad o la precisión de un caso real. La información proporcionada es ficticia y no debe ser considerada como un documento legal real. Es importante consultar fuentes oficiales y confiables para obtener información precisa y actualizada sobre los casos judiciales y legales.\n"
     ]
    }
   ],
   "source": [
    "print(len(tokenizer.decode(metadata_ids[0][len(inputs_resumen[0]):])))\n",
    "decoded_metadata = tokenizer.decode(metadata_ids[0][len(inputs_resumen[0]):], skip_special_tokens=True)\n",
    "print(decoded_metadata)"
   ]
  },
  {
   "cell_type": "code",
   "execution_count": 16,
   "metadata": {},
   "outputs": [],
   "source": [
    "inputs_resumenXL = tokenizer(f'Genera un resumen del siguiente texto:{textoA2}', return_tensors=\"pt\")\n",
    "# Extraccion de los metadatos\n",
    "metadata_ids = model.generate(inputs_resumenXL['input_ids'], \n",
    "                             attention_mask=inputs_resumenXL['attention_mask'],\n",
    "                             pad_token_id=tokenizer.eos_token_id, \n",
    "                             max_new_tokens=150, \n",
    "                             min_new_tokens=60, \n",
    "                             length_penalty=2.0,\n",
    "                             num_beams=2)"
   ]
  },
  {
   "cell_type": "code",
   "execution_count": 17,
   "metadata": {},
   "outputs": [
    {
     "name": "stdout",
     "output_type": "stream",
     "text": [
      "485\n",
      "Nota: Este texto es una transcripción de un juicio en el que se busca resolver un caso de hurto de tarjeta de crédito a la Sra. S. V. D. H. S. por parte del Banco de la Provincia de Córdoba S.A. El juicio se llevó a cabo en la Cámara de Apelaciones en lo Civil y Comercial de Mar del Plata, Sala II, del 30 de diciembre de 2021. La parte demandante, Sra. S. V. D. H. S., solicitaba la condena del demandado a abonar a la demandante la suma de pesos ciento veinte mil cuatrocientos once\n"
     ]
    }
   ],
   "source": [
    "print(len(tokenizer.decode(metadata_ids[0][len(inputs_resumenXL[0]):])))\n",
    "decoded_metadata = tokenizer.decode(metadata_ids[0][len(inputs_resumenXL[0]):], skip_special_tokens=True)\n",
    "print(decoded_metadata)"
   ]
  }
 ],
 "metadata": {
  "kernelspec": {
   "display_name": "Python 3",
   "language": "python",
   "name": "python3"
  },
  "language_info": {
   "codemirror_mode": {
    "name": "ipython",
    "version": 3
   },
   "file_extension": ".py",
   "mimetype": "text/x-python",
   "name": "python",
   "nbconvert_exporter": "python",
   "pygments_lexer": "ipython3",
   "version": "3.10.15"
  }
 },
 "nbformat": 4,
 "nbformat_minor": 2
}
