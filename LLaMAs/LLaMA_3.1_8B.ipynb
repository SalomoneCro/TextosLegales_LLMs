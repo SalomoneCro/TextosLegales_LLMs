{
 "cells": [
  {
   "cell_type": "code",
   "execution_count": 2,
   "metadata": {},
   "outputs": [
    {
     "name": "stderr",
     "output_type": "stream",
     "text": [
      "Downloading shards: 100%|██████████| 4/4 [03:12<00:00, 48.11s/it]\n",
      "Loading checkpoint shards: 100%|██████████| 4/4 [00:06<00:00,  1.52s/it]\n"
     ]
    },
    {
     "name": "stdout",
     "output_type": "stream",
     "text": [
      "Comienza generación de resumen...\n"
     ]
    },
    {
     "name": "stderr",
     "output_type": "stream",
     "text": [
      "Starting from v4.46, the `logits` model output will have the same type as the model (except at train time, where it will always be FP32)\n"
     ]
    },
    {
     "name": "stdout",
     "output_type": "stream",
     "text": [
      "tensor([[128000,    417,    372,  ...,   1080,  57364,   2172]])\n",
      "1\n"
     ]
    }
   ],
   "source": [
    "from transformers import AutoTokenizer, AutoModelForCausalLM\n",
    "from textos import jud_text, jud_text133kb, test\n",
    "import time\n",
    "\n",
    "# Cargar el modelo y el tokenizador\n",
    "model_name = \"meta-llama/Llama-3.1-8B\"\n",
    "tokenizer = AutoTokenizer.from_pretrained(model_name)\n",
    "model = AutoModelForCausalLM.from_pretrained(model_name)\n",
    "\n",
    "\n",
    "inputs = tokenizer(f'resumime el siguiente texto:{jud_text133kb}', return_tensors=\"pt\")\n",
    "\n",
    "\n",
    "print(\"Comienza generación de resumen...\")\n",
    "start_time = time.time()\n",
    "# Generar el resumen usando `generate`\n",
    "summary_ids = model.generate(inputs['input_ids'], \n",
    "                             attention_mask=inputs['attention_mask'],\n",
    "                             pad_token_id=tokenizer.eos_token_id,  # Definir explícitamente el pad_token_id\n",
    "                             max_new_tokens=800, \n",
    "                             min_new_tokens=400, \n",
    "                             length_penalty=2.0, \n",
    "                             num_beams=2, \n",
    "                             early_stopping=True)\n",
    "\n",
    "print(summary_ids)\n",
    "print(len(summary_ids))\n",
    "\n",
    "# Decodificar el resumen generado\n",
    "summary = tokenizer.decode(summary_ids[0], skip_special_tokens=True)"
   ]
  },
  {
   "cell_type": "code",
   "execution_count": 3,
   "metadata": {},
   "outputs": [
    {
     "name": "stdout",
     "output_type": "stream",
     "text": [
      "Expediente SAC 9845003 - Pág. 1 / 64 - Nº Res. 51\n",
      "\n",
      "Protocolo de Sentencias\n",
      "Nº Resolución: 51\n",
      "Año: 2022 Tomo: 2 Folio: 504-535\n",
      "\n",
      "EXPEDIENTE SAC: 9845003 - VELAZQUEZ BADARACCO, AGUSTIN C/ DAMONTE, CARLOS ANDRES Y OTRO ABREVIADO - DAÑOS Y PERJUICIOS - OTRAS FORMAS DE RESPONSABILIDAD EXTRACONTRACTUAL - TRAM\n",
      "ORAL\n",
      "PROTOCOLO DE SENTENCIAS. NÚMERO: 51 DEL 13/04/2022\n",
      "\n",
      "Córdoba, 13 de abril de 2022.\n",
      "Y VISTOS\n",
      "Estos autos caratulados “VELÁZQUEZ BADARACCO, AGUSTÍN C/ DAMONTE,\n",
      "CARLOS ANDRÉS Y OTRO - ABREVIADO - DAÑOS Y PERJUICIOS - OTRAS\n",
      "FORMAS DE RESPONSABILIDAD EXTRACONTRACTUAL - TRAM ORAL” (nº\n",
      "9845003), de los que resulta que en el escrito inicial de fecha 23 de febrero de 2021\n",
      "comparece el Sr. Agustín VELÁZQUEZ BADARACCO (DNI 40.519.109), acompañado del\n",
      "Dr. Ricardo Javier Mancini, e inicia formal demanda abreviada en contra de los Sres. Carlos\n",
      "Andrés DAMONTE (DNI 34.908.606) y Stéfano Javier CINGOLANI (DNI 36.235.821)\n",
      "persiguiendo se los condene a restituirle el rodado de su propiedad en el estado en que se\n",
      "encuentra con más la devolución de las sumas entregadas, de pesos cuarenta y seis mil ($\n",
      "46.000), actualizadas al día de la fecha, así como condenar a los demandados a indemnizarlo\n",
      "por los daños y perjuicios sufridos con más sus intereses desde que la suma le es debida y\n",
      "hasta su efectivo y completo pago, con las costas del juicio y los tres Jus que prescribe el art.\n",
      "Expediente SAC 9845003 - Pág. 1 / 64 - Nº Res. 51\n",
      "\n",
      "104 inc. 5 de la Ley 9459. Peticiona asimismo que, en caso de que no se le entregase la\n",
      "unidad, se condene a los accionados a resarcirlo por la pérdida del automotor con más la\n",
      "restitución de las sumas entregadas en idénticos términos a los expresados.\n",
      "Relata que en el mes de agosto de 2017 concurrió al taller de chapa y pintura \"INTEGRAL\n",
      "DAMONTE\" sito en calle Fco. Muñiz N° 386 de B° Alto Alberdi de la ciudad de Córdoba a\n",
      "los fines de realizar una restauración completa de chapa y pintura a su automotor marca Ford\n",
      "Taunus Año 1.976 Dominio X 0351749. Apunta que las reparaciones encomendadas fueron:\n",
      "Pintura completa, cambio de tanque de nafta, tambor, filtro, colocar trompa, manijas, espejos\n",
      "mascara con faros, vidrios, paneles, butacas, cierres, paragolpes y burletes entre otros detalles,\n",
      "todo conforme detalle que dice suscripto por el co-demandado\n"
     ]
    }
   ],
   "source": [
    "summary = tokenizer.decode(summary_ids[0][len(inputs[0]):])"
   ]
  },
  {
   "cell_type": "code",
   "execution_count": 5,
   "metadata": {},
   "outputs": [],
   "source": [
    "file_name = \"resumenes.py\"\n",
    "\n",
    "# Abre (o crea) el archivo y escribe la variable en él\n",
    "with open(file_name, \"w\") as file:\n",
    "    file.write(f'resumen8B = \"\"\"{summary}\"\"\"\\n')"
   ]
  }
 ],
 "metadata": {
  "kernelspec": {
   "display_name": "Python 3",
   "language": "python",
   "name": "python3"
  },
  "language_info": {
   "codemirror_mode": {
    "name": "ipython",
    "version": 3
   },
   "file_extension": ".py",
   "mimetype": "text/x-python",
   "name": "python",
   "nbconvert_exporter": "python",
   "pygments_lexer": "ipython3",
   "version": "3.10.15"
  }
 },
 "nbformat": 4,
 "nbformat_minor": 2
}
