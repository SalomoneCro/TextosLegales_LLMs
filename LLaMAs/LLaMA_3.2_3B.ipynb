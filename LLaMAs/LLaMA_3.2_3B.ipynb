{
 "cells": [
  {
   "cell_type": "code",
   "execution_count": 1,
   "metadata": {},
   "outputs": [
    {
     "name": "stderr",
     "output_type": "stream",
     "text": [
      "/home/rortiz/micromamba/envs/LLaMAs/lib/python3.10/site-packages/tqdm/auto.py:21: TqdmWarning: IProgress not found. Please update jupyter and ipywidgets. See https://ipywidgets.readthedocs.io/en/stable/user_install.html\n",
      "  from .autonotebook import tqdm as notebook_tqdm\n",
      "Downloading shards: 100%|██████████| 2/2 [01:18<00:00, 39.23s/it]\n",
      "Loading checkpoint shards: 100%|██████████| 2/2 [00:00<00:00,  2.33it/s]\n"
     ]
    },
    {
     "name": "stdout",
     "output_type": "stream",
     "text": [
      "Comienza generación de resumen...\n"
     ]
    },
    {
     "name": "stderr",
     "output_type": "stream",
     "text": [
      "Starting from v4.46, the `logits` model output will have the same type as the model (except at train time, where it will always be FP32)\n"
     ]
    },
    {
     "name": "stdout",
     "output_type": "stream",
     "text": [
      "tensor([[128000,    417,    372,  ...,    220,   3971,   1432]])\n",
      "1\n"
     ]
    }
   ],
   "source": [
    "from transformers import AutoTokenizer, AutoModelForCausalLM\n",
    "from textos import jud_text, jud_text133kb, test\n",
    "import time\n",
    "\n",
    "# Cargar el modelo y el tokenizador\n",
    "model_name = \"meta-llama/Llama-3.2-3B\"\n",
    "tokenizer = AutoTokenizer.from_pretrained(model_name)\n",
    "model = AutoModelForCausalLM.from_pretrained(model_name)\n",
    "\n",
    "\n",
    "inputs = tokenizer(f'resumime el siguiente texto:{jud_text133kb}', return_tensors=\"pt\")\n",
    "\n",
    "\n",
    "print(\"Comienza generación de resumen...\")\n",
    "start_time = time.time()\n",
    "# Generar el resumen usando `generate`\n",
    "summary_ids = model.generate(inputs['input_ids'], \n",
    "                             attention_mask=inputs['attention_mask'],\n",
    "                             pad_token_id=tokenizer.eos_token_id,  # Definir explícitamente el pad_token_id\n",
    "                             max_new_tokens=800, \n",
    "                             min_new_tokens=400, \n",
    "                             length_penalty=2.0, \n",
    "                             num_beams=2, \n",
    "                             early_stopping=True)\n",
    "\n",
    "print(summary_ids)\n",
    "print(len(summary_ids))\n",
    "\n",
    "# Decodificar el resumen generado\n",
    "summary = tokenizer.decode(summary_ids[0], skip_special_tokens=True)\n"
   ]
  },
  {
   "cell_type": "code",
   "execution_count": 3,
   "metadata": {},
   "outputs": [],
   "source": [
    "summary = tokenizer.decode(summary_ids[0][len(inputs[0]):])"
   ]
  },
  {
   "cell_type": "code",
   "execution_count": 6,
   "metadata": {},
   "outputs": [],
   "source": [
    "file_name = \"resumenes.py\"\n",
    "\n",
    "# Abre (o crea) el archivo y escribe la variable en él\n",
    "with open(file_name, \"w\") as file:\n",
    "    file.write(f'resumen3B = \"\"\"{summary}\"\"\"\\n')"
   ]
  }
 ],
 "metadata": {
  "kernelspec": {
   "display_name": "Python 3",
   "language": "python",
   "name": "python3"
  },
  "language_info": {
   "codemirror_mode": {
    "name": "ipython",
    "version": 3
   },
   "file_extension": ".py",
   "mimetype": "text/x-python",
   "name": "python",
   "nbconvert_exporter": "python",
   "pygments_lexer": "ipython3",
   "version": "3.10.15"
  }
 },
 "nbformat": 4,
 "nbformat_minor": 2
}
